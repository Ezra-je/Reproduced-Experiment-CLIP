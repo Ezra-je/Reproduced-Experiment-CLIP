{
 "cells": [
  {
   "cell_type": "code",
   "execution_count": 12,
   "id": "4664b9ff-5ed3-40b1-afa6-3b98e748e17e",
   "metadata": {
    "tags": []
   },
   "outputs": [
    {
     "data": {
      "application/vnd.jupyter.widget-view+json": {
       "model_id": "b72f3a3a7c3141668b1fca7d20cb2706",
       "version_major": 2,
       "version_minor": 0
      },
      "text/plain": [
       "VBox(children=(Dropdown(description='Select Site', index=1, options=('CHI@TACC', 'CHI@UC', 'CHI@EVL', 'CHI@NCA…"
      ]
     },
     "metadata": {},
     "output_type": "display_data"
    },
    {
     "data": {
      "application/vnd.jupyter.widget-view+json": {
       "model_id": "da34a57e4bf34a69aa5a3b7e20b34afa",
       "version_major": 2,
       "version_minor": 0
      },
      "text/plain": [
       "VBox(children=(Dropdown(description='Select Project', options=('CHI-251412',), value='CHI-251412'), Output()))"
      ]
     },
     "metadata": {},
     "output_type": "display_data"
    }
   ],
   "source": [
    "import chi, os, time, datetime\n",
    "from chi import lease\n",
    "from chi import server\n",
    "from chi import context\n",
    "from chi import hardware\n",
    "\n",
    "context.version = \"1.0\" # required during transition\n",
    "context.choose_site(default=\"CHI@UC\")\n",
    "context.choose_project()\n",
    "username = os.getenv('USER') # all exp resources will have this prefix"
   ]
  },
  {
   "cell_type": "code",
   "execution_count": 13,
   "id": "7dc3e72f-fb41-4eab-a743-48285ba4aa1e",
   "metadata": {
    "tags": []
   },
   "outputs": [],
   "source": [
    "node_type = \"gpu_rtx_6000\""
   ]
  },
  {
   "cell_type": "code",
   "execution_count": 14,
   "id": "2688b626-47d1-4d2e-bed3-2c82cf55e190",
   "metadata": {
    "tags": []
   },
   "outputs": [
    {
     "name": "stdout",
     "output_type": "stream",
     "text": [
      "A gpu_rtx_6000 IS available now, your lease will start right away.\n"
     ]
    }
   ],
   "source": [
    "gpu_start_times = [n.next_free_timeslot()[0] for n in hardware.get_nodes(node_type=node_type)]\n",
    "current_time = datetime.datetime.now(datetime.timezone.utc) + datetime.timedelta(minutes=1)\n",
    "if min(gpu_start_times) > current_time:\n",
    "    lease_start = min(gpu_start_times)\n",
    "    print(f\"There is no {node_type} available now, you can request one starting at {str(lease_start)} (UTC).\")\n",
    "else:\n",
    "    lease_start = current_time\n",
    "    print(f\"A {node_type} IS available now, your lease will start right away.\")\n"
   ]
  },
  {
   "cell_type": "code",
   "execution_count": 15,
   "id": "a5bd91eb-c715-4741-8bc0-167c6ee3d4fe",
   "metadata": {
    "tags": []
   },
   "outputs": [
    {
     "name": "stdout",
     "output_type": "stream",
     "text": [
      "Waiting for lease to start...\n"
     ]
    },
    {
     "data": {
      "application/vnd.jupyter.widget-view+json": {
       "model_id": "68123fa4d67d43948ea7e78a5c7cd442",
       "version_major": 2,
       "version_minor": 0
      },
      "text/plain": [
       "HBox(children=(Label(value=''), IntProgress(value=0, bar_style='success')))"
      ]
     },
     "metadata": {},
     "output_type": "display_data"
    },
    {
     "name": "stdout",
     "output_type": "stream",
     "text": [
      "Lease repro-ezrajoanerinata_gmail_com-gpu_rtx_6000 has reached status active\n"
     ]
    }
   ],
   "source": [
    "l = lease.Lease(f\"repro-{username}-{node_type}\", duration=datetime.timedelta(hours=3),\n",
    "                start_date = lease_start  )\n",
    "l.add_node_reservation(node_type = node_type, amount = 1) \n",
    "l.add_fip_reservation(1) \n",
    "l.submit(idempotent=True)"
   ]
  },
  {
   "cell_type": "code",
   "execution_count": 16,
   "id": "dbdda468-726a-4220-89ae-5d7dcf3abb95",
   "metadata": {
    "tags": []
   },
   "outputs": [],
   "source": [
    "# continue here, whether using a lease created just now or one created earlier\n",
    "l = lease.get_lease(f\"repro-{username}-{node_type}\")"
   ]
  },
  {
   "cell_type": "code",
   "execution_count": null,
   "id": "80926317-f6a9-49ea-9229-b720cfb0934f",
   "metadata": {
    "tags": []
   },
   "outputs": [
    {
     "name": "stdout",
     "output_type": "stream",
     "text": [
      "Waiting for server colab-ezrajoanerinata_gmail_com-gpu_rtx_6000's status to become ACTIVE. This typically takes 10 minutes, but can take up to 20 minutes.\n"
     ]
    },
    {
     "data": {
      "application/vnd.jupyter.widget-view+json": {
       "model_id": "ab66060d13754fc2813c5dcc5f076feb",
       "version_major": 2,
       "version_minor": 0
      },
      "text/plain": [
       "HBox(children=(Label(value=''), IntProgress(value=0, bar_style='success')))"
      ]
     },
     "metadata": {},
     "output_type": "display_data"
    }
   ],
   "source": [
    "s = server.Server(\n",
    "    f\"colab-{username}-{node_type}\", \n",
    "    reservation_id=l.node_reservations[0][\"id\"],\n",
    "    image_name=\"CC-Ubuntu24.04-CUDA\"\n",
    ")\n",
    "s.submit(idempotent=True)"
   ]
  },
  {
   "cell_type": "code",
   "execution_count": null,
   "id": "e86e7a59-5a93-4293-b870-7aaa809eac1b",
   "metadata": {
    "tags": []
   },
   "outputs": [],
   "source": [
    "reserved_fip = l.get_reserved_floating_ips()[0]\n",
    "s.associate_floating_ip(reserved_fip)"
   ]
  },
  {
   "cell_type": "code",
   "execution_count": null,
   "id": "7c700ced-aeb4-4689-b3f9-f6a9d29f95f6",
   "metadata": {
    "tags": []
   },
   "outputs": [],
   "source": [
    "s.check_connectivity(host=reserved_fip)"
   ]
  },
  {
   "cell_type": "code",
   "execution_count": 21,
   "id": "85c3b3c4-0b60-4743-8fae-152903d18e6a",
   "metadata": {
    "tags": []
   },
   "outputs": [
    {
     "name": "stdout",
     "output_type": "stream",
     "text": [
      "ssh cc@192.5.86.225\n"
     ]
    }
   ],
   "source": [
    "print(\"ssh cc@\" + reserved_fip)"
   ]
  },
  {
   "cell_type": "markdown",
   "id": "4225e6e9-4ece-45a9-8da2-cff1d999f8f4",
   "metadata": {},
   "source": [
    "Do the terminal first"
   ]
  },
  {
   "cell_type": "code",
   "execution_count": 22,
   "id": "9d9b6257-f333-47de-8a03-274399f8f7d6",
   "metadata": {
    "tags": []
   },
   "outputs": [],
   "source": [
    "from chi import ssh\n",
    "node = ssh.Remote(reserved_fip) "
   ]
  },
  {
   "cell_type": "code",
   "execution_count": 23,
   "id": "016f87ab-3bd4-4049-bd63-4d8d74257279",
   "metadata": {
    "tags": []
   },
   "outputs": [
    {
     "name": "stderr",
     "output_type": "stream",
     "text": [
      "/opt/conda/lib/python3.12/site-packages/paramiko/client.py:889: UserWarning: Unknown ssh-ed25519 host key for 192.5.86.225: b'ba9775cf9eb14619f8a1005b2c5bd046'\n",
      "  warnings.warn(\n"
     ]
    },
    {
     "name": "stdout",
     "output_type": "stream",
     "text": [
      "# Executing docker install script, commit: 53a22f61c0628e58e1d6680b49e82993d304b449\n"
     ]
    },
    {
     "name": "stderr",
     "output_type": "stream",
     "text": [
      "+ sh -c apt-get -qq update >/dev/null\n",
      "+ sh -c DEBIAN_FRONTEND=noninteractive apt-get -y -qq install ca-certificates curl >/dev/null\n",
      "+ sh -c install -m 0755 -d /etc/apt/keyrings\n",
      "+ sh -c curl -fsSL \"https://download.docker.com/linux/ubuntu/gpg\" -o /etc/apt/keyrings/docker.asc\n",
      "+ sh -c chmod a+r /etc/apt/keyrings/docker.asc\n",
      "+ sh -c echo \"deb [arch=amd64 signed-by=/etc/apt/keyrings/docker.asc] https://download.docker.com/linux/ubuntu noble stable\" > /etc/apt/sources.list.d/docker.list\n",
      "+ sh -c apt-get -qq update >/dev/null\n",
      "+ sh -c DEBIAN_FRONTEND=noninteractive apt-get -y -qq install docker-ce docker-ce-cli containerd.io docker-compose-plugin docker-ce-rootless-extras docker-buildx-plugin >/dev/null\n",
      "\n",
      "Running kernel seems to be up-to-date.\n",
      "\n",
      "The processor microcode seems to be up-to-date.\n",
      "\n",
      "No services need to be restarted.\n",
      "\n",
      "No containers need to be restarted.\n",
      "\n",
      "No user sessions are running outdated binaries.\n",
      "\n",
      "No VM guests are running outdated hypervisor (qemu) binaries on this host.\n",
      "+ sh -c docker version\n"
     ]
    },
    {
     "name": "stdout",
     "output_type": "stream",
     "text": [
      "Client: Docker Engine - Community\n",
      " Version:           28.2.2\n",
      " API version:       1.50\n",
      " Go version:        go1.24.3\n",
      " Git commit:        e6534b4\n",
      " Built:             Fri May 30 12:07:27 2025\n",
      " OS/Arch:           linux/amd64\n",
      " Context:           default\n",
      "\n",
      "Server: Docker Engine - Community\n",
      " Engine:\n",
      "  Version:          28.2.2\n",
      "  API version:      1.50 (minimum version 1.24)\n",
      "  Go version:       go1.24.3\n",
      "  Git commit:       45873be\n",
      "  Built:            Fri May 30 12:07:27 2025\n",
      "  OS/Arch:          linux/amd64\n",
      "  Experimental:     false\n",
      " containerd:\n",
      "  Version:          1.7.27\n",
      "  GitCommit:        05044ec0a9a75232cad458027ca83437aae3f4da\n",
      " runc:\n",
      "  Version:          1.2.5\n",
      "  GitCommit:        v1.2.5-0-g59923ef\n",
      " docker-init:\n",
      "  Version:          0.19.0\n",
      "  GitCommit:        de40ad0\n",
      "\n",
      "================================================================================\n",
      "\n",
      "To run Docker as a non-privileged user, consider setting up the\n",
      "Docker daemon in rootless mode for your user:\n",
      "\n",
      "    dockerd-rootless-setuptool.sh install\n",
      "\n",
      "Visit https://docs.docker.com/go/rootless/ to learn about rootless mode.\n",
      "\n",
      "\n",
      "To run the Docker daemon as a fully privileged service, but granting non-root\n",
      "users access, refer to https://docs.docker.com/go/daemon-access/\n",
      "\n",
      "WARNING: Access to the remote API on a privileged Docker daemon is equivalent\n",
      "         to root access on the host. Refer to the 'Docker daemon attack surface'\n",
      "         documentation for details: https://docs.docker.com/go/attack-surface/\n",
      "\n",
      "================================================================================\n",
      "\n"
     ]
    },
    {
     "data": {
      "text/plain": [
       "<Result cmd='sudo groupadd -f docker; sudo usermod -aG docker $USER' exited=0>"
      ]
     },
     "execution_count": 23,
     "metadata": {},
     "output_type": "execute_result"
    }
   ],
   "source": [
    "node.run(\"curl -sSL https://get.docker.com/ | sudo sh\")\n",
    "node.run(\"sudo groupadd -f docker; sudo usermod -aG docker $USER\")"
   ]
  },
  {
   "cell_type": "code",
   "execution_count": 24,
   "id": "d72ee410-c623-4070-b86b-88d0e34da88d",
   "metadata": {
    "tags": []
   },
   "outputs": [
    {
     "name": "stderr",
     "output_type": "stream",
     "text": [
      "Unable to find image 'hello-world:latest' locally\n",
      "latest: Pulling from library/hello-world\n",
      "e6590344b1a5: Pulling fs layer\n",
      "e6590344b1a5: Verifying Checksum\n",
      "e6590344b1a5: Download complete\n",
      "e6590344b1a5: Pull complete\n",
      "Digest: sha256:0b6a027b5cf322f09f6706c754e086a232ec1ddba835c8a15c6cb74ef0d43c29\n",
      "Status: Downloaded newer image for hello-world:latest\n"
     ]
    },
    {
     "name": "stdout",
     "output_type": "stream",
     "text": [
      "\n",
      "Hello from Docker!\n",
      "This message shows that your installation appears to be working correctly.\n",
      "\n",
      "To generate this message, Docker took the following steps:\n",
      " 1. The Docker client contacted the Docker daemon.\n",
      " 2. The Docker daemon pulled the \"hello-world\" image from the Docker Hub.\n",
      "    (amd64)\n",
      " 3. The Docker daemon created a new container from that image which runs the\n",
      "    executable that produces the output you are currently reading.\n",
      " 4. The Docker daemon streamed that output to the Docker client, which sent it\n",
      "    to your terminal.\n",
      "\n",
      "To try something more ambitious, you can run an Ubuntu container with:\n",
      " $ docker run -it ubuntu bash\n",
      "\n",
      "Share images, automate workflows, and more with a free Docker ID:\n",
      " https://hub.docker.com/\n",
      "\n",
      "For more examples and ideas, visit:\n",
      " https://docs.docker.com/get-started/\n",
      "\n"
     ]
    },
    {
     "data": {
      "text/plain": [
       "<Result cmd='docker run hello-world' exited=0>"
      ]
     },
     "execution_count": 24,
     "metadata": {},
     "output_type": "execute_result"
    }
   ],
   "source": [
    "node = ssh.Remote(reserved_fip) # note: need a new SSH session to get new group membership\n",
    "node.run(\"docker run hello-world\")"
   ]
  },
  {
   "cell_type": "code",
   "execution_count": 25,
   "id": "d93e552b-d5a4-4afa-8f31-b4986f63a8fd",
   "metadata": {
    "tags": []
   },
   "outputs": [
    {
     "name": "stdout",
     "output_type": "stream",
     "text": [
      "deb [signed-by=/usr/share/keyrings/nvidia-container-toolkit-keyring.gpg] https://nvidia.github.io/libnvidia-container/stable/deb/$(ARCH) /\n",
      "#deb [signed-by=/usr/share/keyrings/nvidia-container-toolkit-keyring.gpg] https://nvidia.github.io/libnvidia-container/experimental/deb/$(ARCH) /\n"
     ]
    },
    {
     "name": "stderr",
     "output_type": "stream",
     "text": [
      "\n",
      "WARNING: apt does not have a stable CLI interface. Use with caution in scripts.\n",
      "\n"
     ]
    },
    {
     "name": "stdout",
     "output_type": "stream",
     "text": [
      "Hit:1 https://download.docker.com/linux/ubuntu noble InRelease\n",
      "Get:2 https://nvidia.github.io/libnvidia-container/stable/deb/amd64  InRelease [1477 B]\n",
      "Hit:3 http://nova.clouds.archive.ubuntu.com/ubuntu noble InRelease\n",
      "Hit:4 http://nova.clouds.archive.ubuntu.com/ubuntu noble-updates InRelease\n",
      "Hit:5 https://developer.download.nvidia.com/compute/cuda/repos/ubuntu2404/x86_64  InRelease\n",
      "Hit:6 http://nova.clouds.archive.ubuntu.com/ubuntu noble-backports InRelease\n",
      "Hit:7 http://security.ubuntu.com/ubuntu noble-security InRelease\n",
      "Get:8 https://nvidia.github.io/libnvidia-container/stable/deb/amd64  Packages [20.4 kB]\n",
      "Fetched 21.9 kB in 1s (17.8 kB/s)\n",
      "Reading package lists...\n",
      "Building dependency tree...\n",
      "Reading state information...\n",
      "43 packages can be upgraded. Run 'apt list --upgradable' to see them.\n",
      "Reading package lists...\n",
      "Building dependency tree...\n",
      "Reading state information...\n",
      "The following additional packages will be installed:\n",
      "  libnvidia-container-tools libnvidia-container1 nvidia-container-toolkit-base\n",
      "The following NEW packages will be installed:\n",
      "  libnvidia-container-tools libnvidia-container1 nvidia-container-toolkit\n",
      "  nvidia-container-toolkit-base\n",
      "0 upgraded, 4 newly installed, 0 to remove and 43 not upgraded.\n",
      "Need to get 5933 kB of archives.\n",
      "After this operation, 28.2 MB of additional disk space will be used.\n",
      "Get:1 https://developer.download.nvidia.com/compute/cuda/repos/ubuntu2404/x86_64  libnvidia-container1 1.17.7-1 [926 kB]\n",
      "Get:2 https://developer.download.nvidia.com/compute/cuda/repos/ubuntu2404/x86_64  libnvidia-container-tools 1.17.7-1 [22.1 kB]\n",
      "Get:3 https://developer.download.nvidia.com/compute/cuda/repos/ubuntu2404/x86_64  nvidia-container-toolkit-base 1.17.7-1 [3794 kB]\n",
      "Get:4 https://developer.download.nvidia.com/compute/cuda/repos/ubuntu2404/x86_64  nvidia-container-toolkit 1.17.7-1 [1191 kB]\n"
     ]
    },
    {
     "name": "stderr",
     "output_type": "stream",
     "text": [
      "debconf: unable to initialize frontend: Dialog\n",
      "debconf: (Dialog frontend will not work on a dumb terminal, an emacs shell buffer, or without a controlling terminal.)\n",
      "debconf: falling back to frontend: Readline\n",
      "debconf: unable to initialize frontend: Readline\n",
      "debconf: (This frontend requires a controlling tty.)\n",
      "debconf: falling back to frontend: Teletype\n",
      "dpkg-preconfigure: unable to re-open stdin: \n"
     ]
    },
    {
     "name": "stdout",
     "output_type": "stream",
     "text": [
      "Fetched 5933 kB in 1s (4269 kB/s)\n",
      "Selecting previously unselected package libnvidia-container1:amd64.\n",
      "(Reading database ... 113812 files and directories currently installed.)\n",
      "Preparing to unpack .../libnvidia-container1_1.17.7-1_amd64.deb ...\n",
      "Unpacking libnvidia-container1:amd64 (1.17.7-1) ...\n",
      "Selecting previously unselected package libnvidia-container-tools.\n",
      "Preparing to unpack .../libnvidia-container-tools_1.17.7-1_amd64.deb ...\n",
      "Unpacking libnvidia-container-tools (1.17.7-1) ...\n",
      "Selecting previously unselected package nvidia-container-toolkit-base.\n",
      "Preparing to unpack .../nvidia-container-toolkit-base_1.17.7-1_amd64.deb ...\n",
      "Unpacking nvidia-container-toolkit-base (1.17.7-1) ...\n",
      "Selecting previously unselected package nvidia-container-toolkit.\n",
      "Preparing to unpack .../nvidia-container-toolkit_1.17.7-1_amd64.deb ...\n",
      "Unpacking nvidia-container-toolkit (1.17.7-1) ...\n",
      "Setting up nvidia-container-toolkit-base (1.17.7-1) ...\n",
      "Setting up libnvidia-container1:amd64 (1.17.7-1) ...\n",
      "Setting up libnvidia-container-tools (1.17.7-1) ...\n",
      "Setting up nvidia-container-toolkit (1.17.7-1) ...\n",
      "Processing triggers for libc-bin (2.39-0ubuntu8.4) ...\n"
     ]
    },
    {
     "name": "stderr",
     "output_type": "stream",
     "text": [
      "debconf: unable to initialize frontend: Dialog\n",
      "debconf: (Dialog frontend will not work on a dumb terminal, an emacs shell buffer, or without a controlling terminal.)\n",
      "debconf: falling back to frontend: Readline\n",
      "debconf: unable to initialize frontend: Readline\n",
      "debconf: (This frontend requires a controlling tty.)\n",
      "debconf: falling back to frontend: Teletype\n",
      "\n",
      "Running kernel seems to be up-to-date.\n",
      "\n",
      "The processor microcode seems to be up-to-date.\n",
      "\n",
      "No services need to be restarted.\n",
      "\n",
      "No containers need to be restarted.\n",
      "\n",
      "No user sessions are running outdated binaries.\n",
      "\n",
      "No VM guests are running outdated hypervisor (qemu) binaries on this host.\n",
      "time=\"2025-06-02T10:38:11Z\" level=info msg=\"Config file does not exist; using empty config\"\n",
      "time=\"2025-06-02T10:38:11Z\" level=info msg=\"Wrote updated config to /etc/docker/daemon.json\"\n",
      "time=\"2025-06-02T10:38:11Z\" level=info msg=\"It is recommended that docker daemon be restarted.\"\n"
     ]
    },
    {
     "data": {
      "text/plain": [
       "<Result cmd='sudo systemctl restart docker' exited=0>"
      ]
     },
     "execution_count": 25,
     "metadata": {},
     "output_type": "execute_result"
    }
   ],
   "source": [
    "# get NVIDIA container toolkit \n",
    "node.run(\"curl -fsSL https://nvidia.github.io/libnvidia-container/gpgkey | sudo gpg --dearmor -o /usr/share/keyrings/nvidia-container-toolkit-keyring.gpg \\\n",
    "  && curl -s -L https://nvidia.github.io/libnvidia-container/stable/deb/nvidia-container-toolkit.list | \\\n",
    "    sed 's#deb https://#deb [signed-by=/usr/share/keyrings/nvidia-container-toolkit-keyring.gpg] https://#g' | \\\n",
    "    sudo tee /etc/apt/sources.list.d/nvidia-container-toolkit.list\")\n",
    "node.run(\"sudo apt update\")\n",
    "node.run(\"sudo apt-get install -y nvidia-container-toolkit\")\n",
    "node.run(\"sudo nvidia-ctk runtime configure --runtime=docker\")\n",
    "node.run(\"sudo systemctl restart docker\")"
   ]
  },
  {
   "cell_type": "code",
   "execution_count": 26,
   "id": "7c575606-0fe9-4d9f-9263-b1faf835f577",
   "metadata": {
    "tags": []
   },
   "outputs": [
    {
     "name": "stderr",
     "output_type": "stream",
     "text": [
      "Unable to find image 'ubuntu:latest' locally\n",
      "latest: Pulling from library/ubuntu\n",
      "0622fac788ed: Pulling fs layer\n",
      "0622fac788ed: Verifying Checksum\n",
      "0622fac788ed: Download complete\n",
      "0622fac788ed: Pull complete\n",
      "Digest: sha256:6015f66923d7afbc53558d7ccffd325d43b4e249f41a6e93eef074c9505d2233\n",
      "Status: Downloaded newer image for ubuntu:latest\n"
     ]
    },
    {
     "name": "stdout",
     "output_type": "stream",
     "text": [
      "Mon Jun  2 10:38:20 2025       \n",
      "+-----------------------------------------------------------------------------------------+\n",
      "| NVIDIA-SMI 560.35.05              Driver Version: 560.35.05      CUDA Version: 12.6     |\n",
      "|-----------------------------------------+------------------------+----------------------+\n",
      "| GPU  Name                 Persistence-M | Bus-Id          Disp.A | Volatile Uncorr. ECC |\n",
      "| Fan  Temp   Perf          Pwr:Usage/Cap |           Memory-Usage | GPU-Util  Compute M. |\n",
      "|                                         |                        |               MIG M. |\n",
      "|=========================================+========================+======================|\n",
      "|   0  Quadro RTX 6000                Off |   00000000:3B:00.0 Off |                  Off |\n",
      "| 33%   20C    P8             16W /  260W |       2MiB /  24576MiB |      0%      Default |\n",
      "|                                         |                        |                  N/A |\n",
      "+-----------------------------------------+------------------------+----------------------+\n",
      "                                                                                         \n",
      "+-----------------------------------------------------------------------------------------+\n",
      "| Processes:                                                                              |\n",
      "|  GPU   GI   CI        PID   Type   Process name                              GPU Memory |\n",
      "|        ID   ID                                                               Usage      |\n",
      "|=========================================================================================|\n",
      "|  No running processes found                                                             |\n",
      "+-----------------------------------------------------------------------------------------+\n"
     ]
    },
    {
     "data": {
      "text/plain": [
       "<Result cmd='docker run --rm --gpus all ubuntu nvidia-smi' exited=0>"
      ]
     },
     "execution_count": 26,
     "metadata": {},
     "output_type": "execute_result"
    }
   ],
   "source": [
    "# check that we can see GPU from inside container\n",
    "node.run(\"docker run --rm --gpus all ubuntu nvidia-smi\")"
   ]
  },
  {
   "cell_type": "code",
   "execution_count": 27,
   "id": "73b51985-d1a5-491c-b97e-62b3ddd28483",
   "metadata": {
    "tags": []
   },
   "outputs": [
    {
     "name": "stderr",
     "output_type": "stream",
     "text": [
      "Unable to find image 'quay.io/jupyter/pytorch-notebook:cuda12-latest' locally\n",
      "cuda12-latest: Pulling from jupyter/pytorch-notebook\n",
      "f03f49e66a78: Pulling fs layer\n",
      "06ac3029a007: Pulling fs layer\n",
      "ed2da93444d8: Pulling fs layer\n",
      "4f4fb700ef54: Pulling fs layer\n",
      "10bf4b5ce5bd: Pulling fs layer\n",
      "02d0c2faec92: Pulling fs layer\n",
      "eac6e0bb5c57: Pulling fs layer\n",
      "0ea87f6d444e: Pulling fs layer\n",
      "840146cd6907: Pulling fs layer\n",
      "f487082da68d: Pulling fs layer\n",
      "2929654834f8: Pulling fs layer\n",
      "7b59d9faa57a: Pulling fs layer\n",
      "dd40919da564: Pulling fs layer\n",
      "af3290429610: Pulling fs layer\n",
      "02d0c2faec92: Waiting\n",
      "eac6e0bb5c57: Waiting\n",
      "1bcaa076a606: Pulling fs layer\n",
      "9abcb396bde3: Pulling fs layer\n",
      "10bf4b5ce5bd: Waiting\n",
      "3cbc019f5cd1: Pulling fs layer\n",
      "4f4fb700ef54: Waiting\n",
      "1b27d7959a26: Pulling fs layer\n",
      "0ea87f6d444e: Waiting\n",
      "595de7212bee: Pulling fs layer\n",
      "2929654834f8: Waiting\n",
      "f487082da68d: Waiting\n",
      "bf6139a8c23e: Pulling fs layer\n",
      "7b59d9faa57a: Waiting\n",
      "1bcaa076a606: Waiting\n",
      "67f0164cae0e: Pulling fs layer\n",
      "af3290429610: Waiting\n",
      "840146cd6907: Waiting\n",
      "9abcb396bde3: Waiting\n",
      "c12df3ba63dd: Pulling fs layer\n",
      "dd40919da564: Waiting\n",
      "17b217d40025: Pulling fs layer\n",
      "3cbc019f5cd1: Waiting\n",
      "bf6139a8c23e: Waiting\n",
      "67f0164cae0e: Waiting\n",
      "0db097a259da: Pulling fs layer\n",
      "1b27d7959a26: Waiting\n",
      "c12df3ba63dd: Waiting\n",
      "3d7dad026e3c: Pulling fs layer\n",
      "d7abcf2bfb8d: Pulling fs layer\n",
      "0db097a259da: Waiting\n",
      "595de7212bee: Waiting\n",
      "81096e31ecb8: Pulling fs layer\n",
      "562401f43914: Pulling fs layer\n",
      "81096e31ecb8: Waiting\n",
      "d7abcf2bfb8d: Waiting\n",
      "562401f43914: Waiting\n",
      "ed2da93444d8: Download complete\n",
      "06ac3029a007: Verifying Checksum\n",
      "06ac3029a007: Download complete\n",
      "4f4fb700ef54: Verifying Checksum\n",
      "4f4fb700ef54: Download complete\n",
      "10bf4b5ce5bd: Download complete\n",
      "02d0c2faec92: Download complete\n",
      "f03f49e66a78: Verifying Checksum\n",
      "f03f49e66a78: Download complete\n",
      "0ea87f6d444e: Verifying Checksum\n",
      "0ea87f6d444e: Download complete\n",
      "eac6e0bb5c57: Verifying Checksum\n",
      "eac6e0bb5c57: Download complete\n",
      "840146cd6907: Verifying Checksum\n",
      "840146cd6907: Download complete\n",
      "2929654834f8: Verifying Checksum\n",
      "2929654834f8: Download complete\n",
      "7b59d9faa57a: Verifying Checksum\n",
      "7b59d9faa57a: Download complete\n",
      "dd40919da564: Verifying Checksum\n",
      "dd40919da564: Download complete\n",
      "af3290429610: Verifying Checksum\n",
      "af3290429610: Download complete\n",
      "9abcb396bde3: Download complete\n",
      "3cbc019f5cd1: Verifying Checksum\n",
      "3cbc019f5cd1: Download complete\n",
      "f487082da68d: Verifying Checksum\n",
      "f487082da68d: Download complete\n",
      "1b27d7959a26: Verifying Checksum\n",
      "1b27d7959a26: Download complete\n",
      "1bcaa076a606: Verifying Checksum\n",
      "1bcaa076a606: Download complete\n",
      "bf6139a8c23e: Verifying Checksum\n",
      "bf6139a8c23e: Download complete\n",
      "67f0164cae0e: Verifying Checksum\n",
      "67f0164cae0e: Download complete\n",
      "c12df3ba63dd: Download complete\n",
      "f03f49e66a78: Pull complete\n",
      "595de7212bee: Verifying Checksum\n",
      "595de7212bee: Download complete\n",
      "3d7dad026e3c: Verifying Checksum\n",
      "3d7dad026e3c: Download complete\n",
      "d7abcf2bfb8d: Verifying Checksum\n",
      "d7abcf2bfb8d: Download complete\n",
      "81096e31ecb8: Download complete\n",
      "06ac3029a007: Pull complete\n",
      "ed2da93444d8: Pull complete\n",
      "4f4fb700ef54: Pull complete\n",
      "10bf4b5ce5bd: Pull complete\n",
      "02d0c2faec92: Pull complete\n",
      "eac6e0bb5c57: Pull complete\n",
      "0ea87f6d444e: Pull complete\n",
      "840146cd6907: Pull complete\n",
      "17b217d40025: Verifying Checksum\n",
      "17b217d40025: Download complete\n",
      "0db097a259da: Verifying Checksum\n",
      "0db097a259da: Download complete\n",
      "f487082da68d: Pull complete\n",
      "2929654834f8: Pull complete\n",
      "7b59d9faa57a: Pull complete\n",
      "dd40919da564: Pull complete\n",
      "af3290429610: Pull complete\n",
      "1bcaa076a606: Pull complete\n",
      "9abcb396bde3: Pull complete\n",
      "3cbc019f5cd1: Pull complete\n",
      "1b27d7959a26: Pull complete\n",
      "595de7212bee: Pull complete\n",
      "bf6139a8c23e: Pull complete\n",
      "67f0164cae0e: Pull complete\n",
      "c12df3ba63dd: Pull complete\n",
      "562401f43914: Verifying Checksum\n",
      "562401f43914: Download complete\n",
      "17b217d40025: Pull complete\n",
      "0db097a259da: Pull complete\n",
      "3d7dad026e3c: Pull complete\n",
      "d7abcf2bfb8d: Pull complete\n",
      "81096e31ecb8: Pull complete\n",
      "562401f43914: Pull complete\n",
      "Digest: sha256:7266ffb8e19e9a61bf05437bdcc854c7c02a7b1ce1fd0af94e5dd41f3335a3df\n",
      "Status: Downloaded newer image for quay.io/jupyter/pytorch-notebook:cuda12-latest\n"
     ]
    },
    {
     "name": "stdout",
     "output_type": "stream",
     "text": [
      "1eeb2be00c9bec7580e5ebf06af3ac49d4ad32270e9bdd55e8ba099d6f4b503b\n"
     ]
    },
    {
     "data": {
      "text/plain": [
       "<Result cmd='docker run -d -p 8888:8888 --rm --gpus all quay.io/jupyter/pytorch-notebook:cuda12-latest' exited=0>"
      ]
     },
     "execution_count": 27,
     "metadata": {},
     "output_type": "execute_result"
    }
   ],
   "source": [
    "node.run(\"docker run -d -p 8888:8888 --rm --gpus all quay.io/jupyter/pytorch-notebook:cuda12-latest\")"
   ]
  },
  {
   "cell_type": "code",
   "execution_count": 28,
   "id": "5ac67cd4-cdf9-4fc7-b6fa-604a3aa6d724",
   "metadata": {
    "tags": []
   },
   "outputs": [
    {
     "name": "stderr",
     "output_type": "stream",
     "text": [
      "Entered start.sh with args: start-notebook.py\n"
     ]
    },
    {
     "name": "stdout",
     "output_type": "stream",
     "text": [
      "Executing: jupyter lab\n"
     ]
    },
    {
     "name": "stderr",
     "output_type": "stream",
     "text": [
      "Running hooks in: /usr/local/bin/start-notebook.d as uid: 1000 gid: 100\n",
      "Done running hooks in: /usr/local/bin/start-notebook.d\n",
      "Running hooks in: /usr/local/bin/before-notebook.d as uid: 1000 gid: 100\n",
      "Sourcing shell script: /usr/local/bin/before-notebook.d/10activate-conda-env.sh\n",
      "Done running hooks in: /usr/local/bin/before-notebook.d\n",
      "Executing the command: start-notebook.py\n",
      "[I 2025-06-02 10:46:55.258 ServerApp] jupyter_lsp | extension was successfully linked.\n",
      "[I 2025-06-02 10:46:55.260 ServerApp] jupyter_server_mathjax | extension was successfully linked.\n",
      "[I 2025-06-02 10:46:55.263 ServerApp] jupyter_server_terminals | extension was successfully linked.\n",
      "[I 2025-06-02 10:46:55.266 ServerApp] jupyterlab | extension was successfully linked.\n",
      "[I 2025-06-02 10:46:55.266 ServerApp] jupyterlab_git | extension was successfully linked.\n",
      "[I 2025-06-02 10:46:55.269 ServerApp] nbclassic | extension was successfully linked.\n",
      "[I 2025-06-02 10:46:55.269 ServerApp] nbdime | extension was successfully linked.\n",
      "[I 2025-06-02 10:46:55.271 ServerApp] notebook | extension was successfully linked.\n",
      "[I 2025-06-02 10:46:55.274 ServerApp] Writing Jupyter server cookie secret to /home/jovyan/.local/share/jupyter/runtime/jupyter_cookie_secret\n",
      "[I 2025-06-02 10:46:55.450 ServerApp] notebook_shim | extension was successfully linked.\n",
      "[W 2025-06-02 10:46:55.464 ServerApp] WARNING: The Jupyter server is listening on all IP addresses and not using encryption. This is not recommended.\n",
      "[I 2025-06-02 10:46:55.464 ServerApp] notebook_shim | extension was successfully loaded.\n",
      "[I 2025-06-02 10:46:55.466 ServerApp] jupyter_lsp | extension was successfully loaded.\n",
      "[I 2025-06-02 10:46:55.466 ServerApp] jupyter_server_mathjax | extension was successfully loaded.\n",
      "[I 2025-06-02 10:46:55.467 ServerApp] jupyter_server_terminals | extension was successfully loaded.\n",
      "[I 2025-06-02 10:46:55.469 LabApp] JupyterLab extension loaded from /opt/conda/lib/python3.12/site-packages/jupyterlab\n",
      "[I 2025-06-02 10:46:55.469 LabApp] JupyterLab application directory is /opt/conda/share/jupyter/lab\n",
      "[I 2025-06-02 10:46:55.469 LabApp] Extension Manager is 'pypi'.\n",
      "[I 2025-06-02 10:46:55.533 ServerApp] jupyterlab | extension was successfully loaded.\n",
      "[I 2025-06-02 10:46:55.537 ServerApp] jupyterlab_git | extension was successfully loaded.\n",
      "[I 2025-06-02 10:46:55.539 ServerApp] nbclassic | extension was successfully loaded.\n",
      "[I 2025-06-02 10:46:55.582 ServerApp] nbdime | extension was successfully loaded.\n",
      "[I 2025-06-02 10:46:55.585 ServerApp] notebook | extension was successfully loaded.\n",
      "[I 2025-06-02 10:46:55.586 ServerApp] Serving notebooks from local directory: /home/jovyan\n",
      "[I 2025-06-02 10:46:55.586 ServerApp] Jupyter Server 2.16.0 is running at:\n",
      "[I 2025-06-02 10:46:55.586 ServerApp] http://localhost:8888/lab?token=df5b783a48bb833757fbffdda7021352a73ee653413a0e62\n",
      "[I 2025-06-02 10:46:55.586 ServerApp]     http://127.0.0.1:8888/lab?token=df5b783a48bb833757fbffdda7021352a73ee653413a0e62\n",
      "[I 2025-06-02 10:46:55.586 ServerApp] Use Control-C to stop this server and shut down all kernels (twice to skip confirmation).\n",
      "[C 2025-06-02 10:46:55.589 ServerApp] \n",
      "    \n",
      "    To access the server, open this file in a browser:\n",
      "        file:///home/jovyan/.local/share/jupyter/runtime/jpserver-7-open.html\n",
      "    Or copy and paste one of these URLs:\n",
      "        http://localhost:8888/lab?token=df5b783a48bb833757fbffdda7021352a73ee653413a0e62\n",
      "        http://127.0.0.1:8888/lab?token=df5b783a48bb833757fbffdda7021352a73ee653413a0e62\n",
      "[I 2025-06-02 10:46:55.630 ServerApp] Skipped non-installed server(s): bash-language-server, dockerfile-language-server-nodejs, javascript-typescript-langserver, jedi-language-server, julia-language-server, pyright, python-language-server, python-lsp-server, r-languageserver, sql-language-server, texlab, typescript-language-server, unified-language-server, vscode-css-languageserver-bin, vscode-html-languageserver-bin, vscode-json-languageserver-bin, yaml-language-server\n"
     ]
    },
    {
     "data": {
      "text/plain": [
       "<Result cmd='docker ps -q | xargs -L 1 docker logs' exited=0>"
      ]
     },
     "execution_count": 28,
     "metadata": {},
     "output_type": "execute_result"
    }
   ],
   "source": [
    "node.run(\"docker ps -q | xargs -L 1 docker logs\")"
   ]
  },
  {
   "cell_type": "markdown",
   "id": "05339f6e-c830-411d-a84c-0a07751b638b",
   "metadata": {},
   "source": [
    "^^^ Check Ip ^^^"
   ]
  },
  {
   "cell_type": "markdown",
   "id": "e74f7f54-1151-4265-b5c2-a2555832e6e7",
   "metadata": {},
   "source": [
    "Run below if done with anything"
   ]
  },
  {
   "cell_type": "code",
   "execution_count": 10,
   "id": "30f430dc-0dea-4bf4-8eab-9bb16554e5cf",
   "metadata": {
    "tags": []
   },
   "outputs": [
    {
     "data": {
      "application/vnd.jupyter.widget-view+json": {
       "model_id": "f56079e2ff414b3cb700863f11ab902f",
       "version_major": 2,
       "version_minor": 0
      },
      "text/plain": [
       "VBox(children=(Dropdown(description='Select Site', index=1, options=('CHI@TACC', 'CHI@UC', 'CHI@EVL', 'CHI@NCA…"
      ]
     },
     "metadata": {},
     "output_type": "display_data"
    },
    {
     "data": {
      "application/vnd.jupyter.widget-view+json": {
       "model_id": "ed18ae09a56e45fe92113280db75d0ae",
       "version_major": 2,
       "version_minor": 0
      },
      "text/plain": [
       "VBox(children=(Dropdown(description='Select Project', options=('CHI-251412',), value='CHI-251412'), Output()))"
      ]
     },
     "metadata": {},
     "output_type": "display_data"
    }
   ],
   "source": [
    "# setup environment - if you made any changes in the top part, make the same changes here\n",
    "import chi, os\n",
    "from chi import lease, magic, context\n",
    "\n",
    "context.version = \"1.0\" # required during transition\n",
    "\n",
    "context.choose_site(default=\"CHI@UC\")\n",
    "context.choose_project()\n",
    "username = os.getenv('USER') # all exp resources will have this prefix\n",
    "\n",
    "node_type = \"gpu_rtx_6000\"\n",
    "l = lease.get_lease(f\"repro-{username}-{node_type}\")"
   ]
  },
  {
   "cell_type": "code",
   "execution_count": 11,
   "id": "ceaba3a4-6bc7-49dd-863c-7ede00ff239e",
   "metadata": {
    "tags": []
   },
   "outputs": [
    {
     "name": "stdout",
     "output_type": "stream",
     "text": [
      "Deleted lease 2d10ed55-a13e-4f0a-bc7a-301c9d0e87d5\n"
     ]
    }
   ],
   "source": [
    "# un-comment to free resources\n",
    "chi.magic.cleanup_resources(l.id)\n"
   ]
  },
  {
   "cell_type": "code",
   "execution_count": null,
   "id": "46561afd-18a4-4215-9e4e-e6cfea0d1825",
   "metadata": {},
   "outputs": [],
   "source": []
  }
 ],
 "metadata": {
  "kernelspec": {
   "display_name": "Python 3 (ipykernel)",
   "language": "python",
   "name": "python3"
  },
  "language_info": {
   "codemirror_mode": {
    "name": "ipython",
    "version": 3
   },
   "file_extension": ".py",
   "mimetype": "text/x-python",
   "name": "python",
   "nbconvert_exporter": "python",
   "pygments_lexer": "ipython3",
   "version": "3.12.10"
  }
 },
 "nbformat": 4,
 "nbformat_minor": 5
}
